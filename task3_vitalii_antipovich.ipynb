{
 "cells": [
  {
   "cell_type": "markdown",
   "id": "c22d5681-5461-4053-b127-edd68ce2e4d2",
   "metadata": {},
   "source": [
    "# Общий взгляд на данные"
   ]
  },
  {
   "cell_type": "code",
   "execution_count": 2,
   "id": "9c308e6b-ff4a-4619-99ca-716d15445e66",
   "metadata": {},
   "outputs": [],
   "source": [
    "import numpy as np\n",
    "import pandas as pd\n",
    "import matplotlib.pyplot as plt\n",
    "import seaborn as sns"
   ]
  },
  {
   "cell_type": "code",
   "execution_count": 69,
   "id": "fa92b311-a10c-4187-a33d-3f0a792d6345",
   "metadata": {},
   "outputs": [],
   "source": [
    "dataset = pd.read_csv(\"analytics_test.csv\")"
   ]
  },
  {
   "cell_type": "code",
   "execution_count": 70,
   "id": "bb368b8d-b12a-4a7f-ba1f-108922c1337c",
   "metadata": {},
   "outputs": [
    {
     "data": {
      "text/html": [
       "<div>\n",
       "<style scoped>\n",
       "    .dataframe tbody tr th:only-of-type {\n",
       "        vertical-align: middle;\n",
       "    }\n",
       "\n",
       "    .dataframe tbody tr th {\n",
       "        vertical-align: top;\n",
       "    }\n",
       "\n",
       "    .dataframe thead th {\n",
       "        text-align: right;\n",
       "    }\n",
       "</style>\n",
       "<table border=\"1\" class=\"dataframe\">\n",
       "  <thead>\n",
       "    <tr style=\"text-align: right;\">\n",
       "      <th></th>\n",
       "      <th>Unnamed: 0</th>\n",
       "      <th>user_id</th>\n",
       "      <th>sex</th>\n",
       "      <th>age</th>\n",
       "      <th>platform</th>\n",
       "      <th>query_id</th>\n",
       "      <th>query_text</th>\n",
       "      <th>query_type</th>\n",
       "      <th>event</th>\n",
       "      <th>click_position</th>\n",
       "      <th>doc_type</th>\n",
       "      <th>view_time</th>\n",
       "    </tr>\n",
       "  </thead>\n",
       "  <tbody>\n",
       "    <tr>\n",
       "      <th>0</th>\n",
       "      <td>0</td>\n",
       "      <td>96422511</td>\n",
       "      <td>female</td>\n",
       "      <td>68</td>\n",
       "      <td>android</td>\n",
       "      <td>89656828</td>\n",
       "      <td>передачи о новых технологиях</td>\n",
       "      <td>show</td>\n",
       "      <td>share</td>\n",
       "      <td>6</td>\n",
       "      <td>playlist</td>\n",
       "      <td>0</td>\n",
       "    </tr>\n",
       "    <tr>\n",
       "      <th>1</th>\n",
       "      <td>1</td>\n",
       "      <td>45247030</td>\n",
       "      <td>male</td>\n",
       "      <td>62</td>\n",
       "      <td>android_tv</td>\n",
       "      <td>89784877</td>\n",
       "      <td>автопрому новости</td>\n",
       "      <td>news</td>\n",
       "      <td>search</td>\n",
       "      <td>0</td>\n",
       "      <td>NaN</td>\n",
       "      <td>0</td>\n",
       "    </tr>\n",
       "    <tr>\n",
       "      <th>2</th>\n",
       "      <td>2</td>\n",
       "      <td>79572413</td>\n",
       "      <td>male</td>\n",
       "      <td>12</td>\n",
       "      <td>web</td>\n",
       "      <td>10555855</td>\n",
       "      <td>логистическое законодательство</td>\n",
       "      <td>news</td>\n",
       "      <td>search</td>\n",
       "      <td>0</td>\n",
       "      <td>NaN</td>\n",
       "      <td>0</td>\n",
       "    </tr>\n",
       "    <tr>\n",
       "      <th>3</th>\n",
       "      <td>3</td>\n",
       "      <td>821317</td>\n",
       "      <td>female</td>\n",
       "      <td>58</td>\n",
       "      <td>android_tv</td>\n",
       "      <td>72054848</td>\n",
       "      <td>банковские премии новости</td>\n",
       "      <td>news</td>\n",
       "      <td>search</td>\n",
       "      <td>0</td>\n",
       "      <td>NaN</td>\n",
       "      <td>0</td>\n",
       "    </tr>\n",
       "    <tr>\n",
       "      <th>4</th>\n",
       "      <td>4</td>\n",
       "      <td>6206023</td>\n",
       "      <td>female</td>\n",
       "      <td>24</td>\n",
       "      <td>android</td>\n",
       "      <td>20838049</td>\n",
       "      <td>вики шоу аманда</td>\n",
       "      <td>show</td>\n",
       "      <td>subscribe</td>\n",
       "      <td>7</td>\n",
       "      <td>author</td>\n",
       "      <td>0</td>\n",
       "    </tr>\n",
       "  </tbody>\n",
       "</table>\n",
       "</div>"
      ],
      "text/plain": [
       "   Unnamed: 0   user_id     sex  age    platform  query_id  \\\n",
       "0           0  96422511  female   68     android  89656828   \n",
       "1           1  45247030    male   62  android_tv  89784877   \n",
       "2           2  79572413    male   12         web  10555855   \n",
       "3           3    821317  female   58  android_tv  72054848   \n",
       "4           4   6206023  female   24     android  20838049   \n",
       "\n",
       "                       query_text query_type      event  click_position  \\\n",
       "0    передачи о новых технологиях       show      share               6   \n",
       "1               автопрому новости       news     search               0   \n",
       "2  логистическое законодательство       news     search               0   \n",
       "3       банковские премии новости       news     search               0   \n",
       "4                 вики шоу аманда       show  subscribe               7   \n",
       "\n",
       "   doc_type  view_time  \n",
       "0  playlist          0  \n",
       "1       NaN          0  \n",
       "2       NaN          0  \n",
       "3       NaN          0  \n",
       "4    author          0  "
      ]
     },
     "execution_count": 70,
     "metadata": {},
     "output_type": "execute_result"
    }
   ],
   "source": [
    "dataset.head()"
   ]
  },
  {
   "cell_type": "code",
   "execution_count": 71,
   "id": "58e37fab-c1a3-4c2a-bc18-92cabdaf9f82",
   "metadata": {},
   "outputs": [
    {
     "data": {
      "text/html": [
       "<div>\n",
       "<style scoped>\n",
       "    .dataframe tbody tr th:only-of-type {\n",
       "        vertical-align: middle;\n",
       "    }\n",
       "\n",
       "    .dataframe tbody tr th {\n",
       "        vertical-align: top;\n",
       "    }\n",
       "\n",
       "    .dataframe thead th {\n",
       "        text-align: right;\n",
       "    }\n",
       "</style>\n",
       "<table border=\"1\" class=\"dataframe\">\n",
       "  <thead>\n",
       "    <tr style=\"text-align: right;\">\n",
       "      <th></th>\n",
       "      <th>Unnamed: 0</th>\n",
       "      <th>user_id</th>\n",
       "      <th>age</th>\n",
       "      <th>query_id</th>\n",
       "      <th>click_position</th>\n",
       "      <th>view_time</th>\n",
       "    </tr>\n",
       "  </thead>\n",
       "  <tbody>\n",
       "    <tr>\n",
       "      <th>count</th>\n",
       "      <td>20000.000000</td>\n",
       "      <td>2.000000e+04</td>\n",
       "      <td>20000.000000</td>\n",
       "      <td>2.000000e+04</td>\n",
       "      <td>20000.000000</td>\n",
       "      <td>20000.000000</td>\n",
       "    </tr>\n",
       "    <tr>\n",
       "      <th>mean</th>\n",
       "      <td>9999.500000</td>\n",
       "      <td>4.940472e+07</td>\n",
       "      <td>30.029600</td>\n",
       "      <td>1.629075e+08</td>\n",
       "      <td>6.216150</td>\n",
       "      <td>614.775450</td>\n",
       "    </tr>\n",
       "    <tr>\n",
       "      <th>std</th>\n",
       "      <td>5773.647028</td>\n",
       "      <td>2.896590e+07</td>\n",
       "      <td>22.588294</td>\n",
       "      <td>2.443505e+08</td>\n",
       "      <td>6.389262</td>\n",
       "      <td>2217.290922</td>\n",
       "    </tr>\n",
       "    <tr>\n",
       "      <th>min</th>\n",
       "      <td>0.000000</td>\n",
       "      <td>1.273000e+03</td>\n",
       "      <td>0.000000</td>\n",
       "      <td>8.758000e+03</td>\n",
       "      <td>0.000000</td>\n",
       "      <td>0.000000</td>\n",
       "    </tr>\n",
       "    <tr>\n",
       "      <th>25%</th>\n",
       "      <td>4999.750000</td>\n",
       "      <td>2.405560e+07</td>\n",
       "      <td>11.000000</td>\n",
       "      <td>3.215079e+07</td>\n",
       "      <td>0.000000</td>\n",
       "      <td>0.000000</td>\n",
       "    </tr>\n",
       "    <tr>\n",
       "      <th>50%</th>\n",
       "      <td>9999.500000</td>\n",
       "      <td>4.946180e+07</td>\n",
       "      <td>30.000000</td>\n",
       "      <td>6.425107e+07</td>\n",
       "      <td>4.000000</td>\n",
       "      <td>0.000000</td>\n",
       "    </tr>\n",
       "    <tr>\n",
       "      <th>75%</th>\n",
       "      <td>14999.250000</td>\n",
       "      <td>7.429182e+07</td>\n",
       "      <td>50.000000</td>\n",
       "      <td>9.664634e+07</td>\n",
       "      <td>10.000000</td>\n",
       "      <td>0.000000</td>\n",
       "    </tr>\n",
       "    <tr>\n",
       "      <th>max</th>\n",
       "      <td>19999.000000</td>\n",
       "      <td>9.999570e+07</td>\n",
       "      <td>69.000000</td>\n",
       "      <td>9.998612e+08</td>\n",
       "      <td>30.000000</td>\n",
       "      <td>17994.000000</td>\n",
       "    </tr>\n",
       "  </tbody>\n",
       "</table>\n",
       "</div>"
      ],
      "text/plain": [
       "         Unnamed: 0       user_id           age      query_id  click_position  \\\n",
       "count  20000.000000  2.000000e+04  20000.000000  2.000000e+04    20000.000000   \n",
       "mean    9999.500000  4.940472e+07     30.029600  1.629075e+08        6.216150   \n",
       "std     5773.647028  2.896590e+07     22.588294  2.443505e+08        6.389262   \n",
       "min        0.000000  1.273000e+03      0.000000  8.758000e+03        0.000000   \n",
       "25%     4999.750000  2.405560e+07     11.000000  3.215079e+07        0.000000   \n",
       "50%     9999.500000  4.946180e+07     30.000000  6.425107e+07        4.000000   \n",
       "75%    14999.250000  7.429182e+07     50.000000  9.664634e+07       10.000000   \n",
       "max    19999.000000  9.999570e+07     69.000000  9.998612e+08       30.000000   \n",
       "\n",
       "          view_time  \n",
       "count  20000.000000  \n",
       "mean     614.775450  \n",
       "std     2217.290922  \n",
       "min        0.000000  \n",
       "25%        0.000000  \n",
       "50%        0.000000  \n",
       "75%        0.000000  \n",
       "max    17994.000000  "
      ]
     },
     "execution_count": 71,
     "metadata": {},
     "output_type": "execute_result"
    }
   ],
   "source": [
    "dataset.describe()"
   ]
  },
  {
   "cell_type": "markdown",
   "id": "9ebeeef4-111f-47fa-8d49-3b3bc35693fa",
   "metadata": {},
   "source": [
    "Сбрасываем ненужную unnamed"
   ]
  },
  {
   "cell_type": "code",
   "execution_count": 72,
   "id": "e1670556-8920-48f1-914a-280b9e9308d2",
   "metadata": {},
   "outputs": [],
   "source": [
    "dataset.drop(['Unnamed: 0'], inplace=True, axis=1)"
   ]
  },
  {
   "cell_type": "markdown",
   "id": "1c944d03-98cc-47e1-a5a8-4a7055a693ec",
   "metadata": {},
   "source": [
    "Добавляем больше численных данных: из текста запроса получаем длину запроса и количество слов в нем"
   ]
  },
  {
   "cell_type": "code",
   "execution_count": 73,
   "id": "c979de70-f4e0-4c66-b6ab-f83dfefcb9bc",
   "metadata": {},
   "outputs": [],
   "source": [
    "dataset[\"query_text_length\"] =  dataset[\"query_text\"].apply(len)\n",
    "dataset[\"query_text_wordcount\"] = dataset[\"query_text\"].apply(lambda x: len(x.split()))"
   ]
  },
  {
   "cell_type": "code",
   "execution_count": 75,
   "id": "fae04fdf-05f4-48b4-b55c-ccacccde2bc3",
   "metadata": {},
   "outputs": [
    {
     "data": {
      "text/html": [
       "<div>\n",
       "<style scoped>\n",
       "    .dataframe tbody tr th:only-of-type {\n",
       "        vertical-align: middle;\n",
       "    }\n",
       "\n",
       "    .dataframe tbody tr th {\n",
       "        vertical-align: top;\n",
       "    }\n",
       "\n",
       "    .dataframe thead th {\n",
       "        text-align: right;\n",
       "    }\n",
       "</style>\n",
       "<table border=\"1\" class=\"dataframe\">\n",
       "  <thead>\n",
       "    <tr style=\"text-align: right;\">\n",
       "      <th></th>\n",
       "      <th>user_id</th>\n",
       "      <th>age</th>\n",
       "      <th>query_id</th>\n",
       "      <th>click_position</th>\n",
       "      <th>view_time</th>\n",
       "      <th>query_text_length</th>\n",
       "      <th>query_text_wordcount</th>\n",
       "    </tr>\n",
       "  </thead>\n",
       "  <tbody>\n",
       "    <tr>\n",
       "      <th>count</th>\n",
       "      <td>2.000000e+04</td>\n",
       "      <td>20000.000000</td>\n",
       "      <td>2.000000e+04</td>\n",
       "      <td>20000.000000</td>\n",
       "      <td>20000.000000</td>\n",
       "      <td>20000.000000</td>\n",
       "      <td>20000.000000</td>\n",
       "    </tr>\n",
       "    <tr>\n",
       "      <th>mean</th>\n",
       "      <td>4.940472e+07</td>\n",
       "      <td>30.029600</td>\n",
       "      <td>1.629075e+08</td>\n",
       "      <td>6.216150</td>\n",
       "      <td>614.775450</td>\n",
       "      <td>25.839900</td>\n",
       "      <td>3.805000</td>\n",
       "    </tr>\n",
       "    <tr>\n",
       "      <th>std</th>\n",
       "      <td>2.896590e+07</td>\n",
       "      <td>22.588294</td>\n",
       "      <td>2.443505e+08</td>\n",
       "      <td>6.389262</td>\n",
       "      <td>2217.290922</td>\n",
       "      <td>7.284155</td>\n",
       "      <td>1.290526</td>\n",
       "    </tr>\n",
       "    <tr>\n",
       "      <th>min</th>\n",
       "      <td>1.273000e+03</td>\n",
       "      <td>0.000000</td>\n",
       "      <td>8.758000e+03</td>\n",
       "      <td>0.000000</td>\n",
       "      <td>0.000000</td>\n",
       "      <td>8.000000</td>\n",
       "      <td>1.000000</td>\n",
       "    </tr>\n",
       "    <tr>\n",
       "      <th>25%</th>\n",
       "      <td>2.405560e+07</td>\n",
       "      <td>11.000000</td>\n",
       "      <td>3.215079e+07</td>\n",
       "      <td>0.000000</td>\n",
       "      <td>0.000000</td>\n",
       "      <td>21.000000</td>\n",
       "      <td>3.000000</td>\n",
       "    </tr>\n",
       "    <tr>\n",
       "      <th>50%</th>\n",
       "      <td>4.946180e+07</td>\n",
       "      <td>30.000000</td>\n",
       "      <td>6.425107e+07</td>\n",
       "      <td>4.000000</td>\n",
       "      <td>0.000000</td>\n",
       "      <td>25.000000</td>\n",
       "      <td>4.000000</td>\n",
       "    </tr>\n",
       "    <tr>\n",
       "      <th>75%</th>\n",
       "      <td>7.429182e+07</td>\n",
       "      <td>50.000000</td>\n",
       "      <td>9.664634e+07</td>\n",
       "      <td>10.000000</td>\n",
       "      <td>0.000000</td>\n",
       "      <td>30.000000</td>\n",
       "      <td>4.000000</td>\n",
       "    </tr>\n",
       "    <tr>\n",
       "      <th>max</th>\n",
       "      <td>9.999570e+07</td>\n",
       "      <td>69.000000</td>\n",
       "      <td>9.998612e+08</td>\n",
       "      <td>30.000000</td>\n",
       "      <td>17994.000000</td>\n",
       "      <td>100.000000</td>\n",
       "      <td>20.000000</td>\n",
       "    </tr>\n",
       "  </tbody>\n",
       "</table>\n",
       "</div>"
      ],
      "text/plain": [
       "            user_id           age      query_id  click_position     view_time  \\\n",
       "count  2.000000e+04  20000.000000  2.000000e+04    20000.000000  20000.000000   \n",
       "mean   4.940472e+07     30.029600  1.629075e+08        6.216150    614.775450   \n",
       "std    2.896590e+07     22.588294  2.443505e+08        6.389262   2217.290922   \n",
       "min    1.273000e+03      0.000000  8.758000e+03        0.000000      0.000000   \n",
       "25%    2.405560e+07     11.000000  3.215079e+07        0.000000      0.000000   \n",
       "50%    4.946180e+07     30.000000  6.425107e+07        4.000000      0.000000   \n",
       "75%    7.429182e+07     50.000000  9.664634e+07       10.000000      0.000000   \n",
       "max    9.999570e+07     69.000000  9.998612e+08       30.000000  17994.000000   \n",
       "\n",
       "       query_text_length  query_text_wordcount  \n",
       "count       20000.000000          20000.000000  \n",
       "mean           25.839900              3.805000  \n",
       "std             7.284155              1.290526  \n",
       "min             8.000000              1.000000  \n",
       "25%            21.000000              3.000000  \n",
       "50%            25.000000              4.000000  \n",
       "75%            30.000000              4.000000  \n",
       "max           100.000000             20.000000  "
      ]
     },
     "execution_count": 75,
     "metadata": {},
     "output_type": "execute_result"
    }
   ],
   "source": [
    "dataset.describe()"
   ]
  },
  {
   "cell_type": "markdown",
   "id": "072020e8-3981-423d-ace6-22ba1d98a139",
   "metadata": {},
   "source": [
    "Предположим, сколько-то адекватные запросы можно формулировать начиная с 5 лет, отфильтруем age"
   ]
  },
  {
   "cell_type": "code",
   "execution_count": 145,
   "id": "03254900-c64b-4731-b990-a1c5be4db7c8",
   "metadata": {},
   "outputs": [],
   "source": [
    "dataset = dataset[dataset[\"age\"] >= 5]"
   ]
  },
  {
   "cell_type": "code",
   "execution_count": 146,
   "id": "3e30aa7b-5ea4-4924-aca5-52c2c516cbdb",
   "metadata": {},
   "outputs": [
    {
     "data": {
      "text/html": [
       "<div>\n",
       "<style scoped>\n",
       "    .dataframe tbody tr th:only-of-type {\n",
       "        vertical-align: middle;\n",
       "    }\n",
       "\n",
       "    .dataframe tbody tr th {\n",
       "        vertical-align: top;\n",
       "    }\n",
       "\n",
       "    .dataframe thead th {\n",
       "        text-align: right;\n",
       "    }\n",
       "</style>\n",
       "<table border=\"1\" class=\"dataframe\">\n",
       "  <thead>\n",
       "    <tr style=\"text-align: right;\">\n",
       "      <th></th>\n",
       "      <th>user_id</th>\n",
       "      <th>age</th>\n",
       "      <th>query_id</th>\n",
       "      <th>click_position</th>\n",
       "      <th>view_time</th>\n",
       "      <th>query_text_length</th>\n",
       "      <th>query_text_wordcount</th>\n",
       "    </tr>\n",
       "  </thead>\n",
       "  <tbody>\n",
       "    <tr>\n",
       "      <th>count</th>\n",
       "      <td>1.526700e+04</td>\n",
       "      <td>15267.000000</td>\n",
       "      <td>1.526700e+04</td>\n",
       "      <td>15267.000000</td>\n",
       "      <td>15267.000000</td>\n",
       "      <td>15267.000000</td>\n",
       "      <td>15267.000000</td>\n",
       "    </tr>\n",
       "    <tr>\n",
       "      <th>mean</th>\n",
       "      <td>4.929021e+07</td>\n",
       "      <td>39.339228</td>\n",
       "      <td>1.008937e+08</td>\n",
       "      <td>6.897950</td>\n",
       "      <td>435.466758</td>\n",
       "      <td>25.190149</td>\n",
       "      <td>3.685858</td>\n",
       "    </tr>\n",
       "    <tr>\n",
       "      <th>std</th>\n",
       "      <td>2.897877e+07</td>\n",
       "      <td>17.382840</td>\n",
       "      <td>1.754010e+08</td>\n",
       "      <td>6.693653</td>\n",
       "      <td>1730.117366</td>\n",
       "      <td>7.164282</td>\n",
       "      <td>1.297777</td>\n",
       "    </tr>\n",
       "    <tr>\n",
       "      <th>min</th>\n",
       "      <td>1.273000e+03</td>\n",
       "      <td>10.000000</td>\n",
       "      <td>1.146600e+04</td>\n",
       "      <td>0.000000</td>\n",
       "      <td>0.000000</td>\n",
       "      <td>8.000000</td>\n",
       "      <td>1.000000</td>\n",
       "    </tr>\n",
       "    <tr>\n",
       "      <th>25%</th>\n",
       "      <td>2.401440e+07</td>\n",
       "      <td>24.000000</td>\n",
       "      <td>2.793729e+07</td>\n",
       "      <td>0.000000</td>\n",
       "      <td>0.000000</td>\n",
       "      <td>20.000000</td>\n",
       "      <td>3.000000</td>\n",
       "    </tr>\n",
       "    <tr>\n",
       "      <th>50%</th>\n",
       "      <td>4.912038e+07</td>\n",
       "      <td>39.000000</td>\n",
       "      <td>5.583657e+07</td>\n",
       "      <td>6.000000</td>\n",
       "      <td>0.000000</td>\n",
       "      <td>25.000000</td>\n",
       "      <td>3.000000</td>\n",
       "    </tr>\n",
       "    <tr>\n",
       "      <th>75%</th>\n",
       "      <td>7.419500e+07</td>\n",
       "      <td>55.000000</td>\n",
       "      <td>8.360249e+07</td>\n",
       "      <td>11.000000</td>\n",
       "      <td>0.000000</td>\n",
       "      <td>29.000000</td>\n",
       "      <td>4.000000</td>\n",
       "    </tr>\n",
       "    <tr>\n",
       "      <th>max</th>\n",
       "      <td>9.999474e+07</td>\n",
       "      <td>69.000000</td>\n",
       "      <td>9.996379e+08</td>\n",
       "      <td>30.000000</td>\n",
       "      <td>17986.000000</td>\n",
       "      <td>100.000000</td>\n",
       "      <td>20.000000</td>\n",
       "    </tr>\n",
       "  </tbody>\n",
       "</table>\n",
       "</div>"
      ],
      "text/plain": [
       "            user_id           age      query_id  click_position     view_time  \\\n",
       "count  1.526700e+04  15267.000000  1.526700e+04    15267.000000  15267.000000   \n",
       "mean   4.929021e+07     39.339228  1.008937e+08        6.897950    435.466758   \n",
       "std    2.897877e+07     17.382840  1.754010e+08        6.693653   1730.117366   \n",
       "min    1.273000e+03     10.000000  1.146600e+04        0.000000      0.000000   \n",
       "25%    2.401440e+07     24.000000  2.793729e+07        0.000000      0.000000   \n",
       "50%    4.912038e+07     39.000000  5.583657e+07        6.000000      0.000000   \n",
       "75%    7.419500e+07     55.000000  8.360249e+07       11.000000      0.000000   \n",
       "max    9.999474e+07     69.000000  9.996379e+08       30.000000  17986.000000   \n",
       "\n",
       "       query_text_length  query_text_wordcount  \n",
       "count       15267.000000          15267.000000  \n",
       "mean           25.190149              3.685858  \n",
       "std             7.164282              1.297777  \n",
       "min             8.000000              1.000000  \n",
       "25%            20.000000              3.000000  \n",
       "50%            25.000000              3.000000  \n",
       "75%            29.000000              4.000000  \n",
       "max           100.000000             20.000000  "
      ]
     },
     "execution_count": 146,
     "metadata": {},
     "output_type": "execute_result"
    }
   ],
   "source": [
    "dataset.describe()"
   ]
  },
  {
   "cell_type": "code",
   "execution_count": 147,
   "id": "ad0244e1-08f8-4028-bb95-d8610d3683e7",
   "metadata": {},
   "outputs": [
    {
     "data": {
      "text/plain": [
       "user_id                  int64\n",
       "sex                     object\n",
       "age                      int64\n",
       "platform                object\n",
       "query_id                 int64\n",
       "query_text              object\n",
       "query_type              object\n",
       "event                   object\n",
       "click_position           int64\n",
       "doc_type                object\n",
       "view_time                int64\n",
       "query_text_length        int64\n",
       "query_text_wordcount     int64\n",
       "dtype: object"
      ]
     },
     "execution_count": 147,
     "metadata": {},
     "output_type": "execute_result"
    }
   ],
   "source": [
    "dataset.dtypes"
   ]
  },
  {
   "cell_type": "code",
   "execution_count": 148,
   "id": "8783c65f-fe53-4be9-8d06-904f76b2a555",
   "metadata": {},
   "outputs": [],
   "source": [
    "obj_cols = list(dataset.select_dtypes(include='object').columns)\n",
    "obj_cols.remove(\"query_text\")"
   ]
  },
  {
   "cell_type": "code",
   "execution_count": 151,
   "id": "fa9dc9c6-2aa6-487d-aaa5-5e1f6a596f01",
   "metadata": {},
   "outputs": [
    {
     "data": {
      "image/png": "[encoded data removed]",
      "text/plain": [
       "<Figure size 500x2500 with 5 Axes>"
      ]
     },
     "metadata": {},
     "output_type": "display_data"
    }
   ],
   "source": [
    "fig, axes = plt.subplots(len(obj_cols))\n",
    "fig.set_size_inches(5, len(obj_cols) * 5)\n",
    "fig.suptitle(\"Распределение категориальных данных\")\n",
    "for i, obj_col in enumerate(obj_cols):\n",
    "    df = pd.DataFrame([dataset[obj_col].value_counts()])\n",
    "    cols = list(df.columns)\n",
    "    vals = [df[col].iloc[0] for col in cols]\n",
    "    nan_num = dataset[obj_col].isna().sum()\n",
    "    if nan_num > 0:\n",
    "        cols.append(\"nan\")\n",
    "        vals.append(nan_num)\n",
    "    bars_container = axes[i].bar(cols, vals)\n",
    "    axes[i].set_title(f\"{obj_col}\")\n",
    "    axes[i].bar_label(bars_container)"
   ]
  },
  {
   "cell_type": "markdown",
   "id": "b6dc8ced-5b69-4ed6-a010-17969a4c0181",
   "metadata": {},
   "source": [
    "Убрав возраст <5, мы убрали всех анонимов, теперь пол конкретно определен у всех"
   ]
  },
  {
   "cell_type": "markdown",
   "id": "e47dc17a-0a57-48ff-8d5d-0da71623c582",
   "metadata": {},
   "source": [
    "Посмотрим, как следует интерпретировать nan в doc_type. Вряд ли это просто пропуски в данных, проверим, может ли это быть что ничего не выбрано при поиске"
   ]
  },
  {
   "cell_type": "markdown",
   "id": "80cf15cd-4089-4f91-9bf7-b203b09177a3",
   "metadata": {},
   "source": [
    "Проверим разброс категориальных данных по типам event"
   ]
  },
  {
   "cell_type": "code",
   "execution_count": 166,
   "id": "17ac2690-89ac-4903-a66e-81fa2245b586",
   "metadata": {},
   "outputs": [
    {
     "data": {
      "text/plain": [
       "(['sex', 'platform', 'query_type', 'event'],\n",
       " array(['playlist', 'author', 'video', 'clip'], dtype='<U8'))"
      ]
     },
     "execution_count": 166,
     "metadata": {},
     "output_type": "execute_result"
    }
   ],
   "source": [
    "obj_cols_by_doctype = obj_cols.copy()\n",
    "obj_cols_by_doctype.remove(\"doc_type\")\n",
    "# отфильтруем по доктайпам\n",
    "doctypes = list(dataset[\"doc_type\"].unique())\n",
    "doctypes.remove(np.nan)\n",
    "doctypes = np.array(doctypes)\n",
    "obj_cols_by_doctype, doctypes"
   ]
  },
  {
   "cell_type": "code",
   "execution_count": 168,
   "id": "a85a375f-4cf4-4289-9ca2-11c7e5f3babc",
   "metadata": {},
   "outputs": [
    {
     "name": "stdout",
     "output_type": "stream",
     "text": [
      "sex\n",
      "playlist\n",
      "['female', 'male']\n",
      "[np.int64(626), np.int64(403)]\n",
      "author\n",
      "['female', 'male']\n",
      "[np.int64(1810), np.int64(976)]\n",
      "video\n",
      "['female', 'male']\n",
      "[np.int64(1994), np.int64(1163)]\n",
      "clip\n",
      "['female', 'male']\n",
      "[np.int64(2973), np.int64(1540)]\n"
     ]
    },
    {
     "data": {
      "image/png": "[encoded data removed]",
      "text/plain": [
       "<Figure size 500x2000 with 4 Axes>"
      ]
     },
     "metadata": {},
     "output_type": "display_data"
    }
   ],
   "source": [
    "fig, axes = plt.subplots(len(obj_cols_by_doctype))\n",
    "fig.set_size_inches(5, len(obj_cols_by_doctype) * 5)\n",
    "fig.suptitle(\"Распределение категориальных данных\")\n",
    "for i, obj_col in enumerate(obj_cols_by_doctype):\n",
    "    print(obj_col)\n",
    "    d = {}\n",
    "    # хотим построить диаграмму, в которой покажется количество категориальных объектов, но поделенных по доктайпам\n",
    "    df = pd.DataFrame([dataset[obj_col].value_counts()])\n",
    "    # тут у нас уникальные значения столбца obj_col\n",
    "    \n",
    "    # а тут сколько раз эти уникальные значения встречаются\n",
    "    # print(cols)\n",
    "    \n",
    "    for doctype in doctypes:\n",
    "        df = pd.DataFrame([dataset[dataset[\"doc_type\"] == doctype] [obj_col].value_counts()])\n",
    "        cols = list(df.columns)\n",
    "        print(doctype)\n",
    "        print(cols)\n",
    "        vals = [df[col].iloc[0] for col in cols]\n",
    "        print(vals)\n",
    "        # d[doctype] = [dataset[dataset ]  ]\n",
    "    break\n",
    "        # bottom = np.zeros()\n",
    "    # df = pd.DataFrame([dataset[obj_col].value_counts()])\n",
    "    # cols = list(df.columns)\n",
    "    # vals = [df[col].iloc[0] for col in cols]\n",
    "    # nan_num = dataset[obj_col].isna().sum()\n",
    "    # if nan_num > 0:\n",
    "    #     cols.append(\"nan\")\n",
    "    #     vals.append(nan_num)\n",
    "    # bars_container = axes[i].bar(cols, vals)\n",
    "    # axes[i].set_title(f\"{obj_col}\")\n",
    "    # axes[i].bar_label(bars_container)"
   ]
  },
  {
   "cell_type": "code",
   "execution_count": null,
   "id": "f88730b8-6d12-42f6-a69e-1ae502337f60",
   "metadata": {},
   "outputs": [],
   "source": [
    "species = ('Adelie', 'Chinstrap', 'Gentoo')\n",
    "sex_counts = {\n",
    "    'Male': np.array([73, 34, 61]),\n",
    "    'Female': np.array([73, 34, 58]),\n",
    "}\n",
    "width = 0.6  # the width of the bars: can also be len(x) sequence\n",
    "\n",
    "\n",
    "fig, ax = plt.subplots()\n",
    "bottom = np.zeros(3)\n",
    "\n",
    "for sex, sex_count in sex_counts.items():\n",
    "    p = ax.bar(species, sex_count, width, label=sex, bottom=bottom)\n",
    "    bottom += sex_count\n",
    "\n",
    "    ax.bar_label(p, label_type='center')\n",
    "\n",
    "ax.set_title('Number of penguins by sex')\n",
    "ax.legend()\n",
    "\n",
    "plt.show()"
   ]
  },
  {
   "cell_type": "markdown",
   "id": "fd23f727-de86-405d-8092-2f7440190266",
   "metadata": {},
   "source": [
    "надо еще посмотреть, как успешно классифицируется запрос по категориям\n",
    "Успешно то есть насколько он релевантен"
   ]
  },
  {
   "cell_type": "markdown",
   "id": "a4e8d6e0-6e0f-47c0-b014-436e8b243d62",
   "metadata": {},
   "source": [
    "Теперь смотрим на разброс данных по категориям (objects)"
   ]
  },
  {
   "cell_type": "code",
   "execution_count": 102,
   "id": "3b58f686-7747-4ad1-b49a-fca6e5cd0b41",
   "metadata": {},
   "outputs": [
    {
     "data": {
      "text/plain": [
       "[('iphone', np.int64(4312)),\n",
       " ('smart_tv', np.int64(4255)),\n",
       " ('android', np.int64(4246)),\n",
       " ('android_tv', np.int64(3985)),\n",
       " ('web', np.int64(3202))]"
      ]
     },
     "execution_count": 102,
     "metadata": {},
     "output_type": "execute_result"
    }
   ],
   "source": [
    "df = pd.DataFrame([ dataset.platform.value_counts()])\n",
    "\n",
    "[(col,df[col].iloc[0] ) for col in df.columns ]"
   ]
  },
  {
   "cell_type": "code",
   "execution_count": 84,
   "id": "4bb26147-1962-4836-9e8b-59cc2365dffb",
   "metadata": {},
   "outputs": [],
   "source": [
    "un_platforms_x = dataset.platform.unique()"
   ]
  },
  {
   "cell_type": "code",
   "execution_count": 87,
   "id": "c91536ed-adb7-400f-853d-c3032b355dfb",
   "metadata": {},
   "outputs": [
    {
     "data": {
      "text/plain": [
       "[4246, 3985, 3202, 4255, 4312]"
      ]
     },
     "execution_count": 87,
     "metadata": {},
     "output_type": "execute_result"
    }
   ],
   "source": [
    "[dataset[dataset[\"platform\"] == un_platforms[i]].shape[0] for i in range(un_platforms.size)]"
   ]
  },
  {
   "cell_type": "code",
   "execution_count": null,
   "id": "492cef71-03d7-4491-8566-aeaf8d146801",
   "metadata": {},
   "outputs": [],
   "source": []
  },
  {
   "cell_type": "code",
   "execution_count": 18,
   "id": "e7157933-e956-4d9a-846d-1cb0d11d6b16",
   "metadata": {},
   "outputs": [
    {
     "data": {
      "text/plain": [
       "np.int64(0)"
      ]
     },
     "execution_count": 18,
     "metadata": {},
     "output_type": "execute_result"
    }
   ],
   "source": [
    "dataset.platform.isna().sum()"
   ]
  },
  {
   "cell_type": "code",
   "execution_count": 17,
   "id": "a378e751-d4da-49f8-a735-3cf07df41d44",
   "metadata": {},
   "outputs": [
    {
     "data": {
      "text/plain": [
       "doc_type\n",
       "clip        5195\n",
       "video       4704\n",
       "author      3357\n",
       "playlist    1786\n",
       "Name: count, dtype: int64"
      ]
     },
     "execution_count": 17,
     "metadata": {},
     "output_type": "execute_result"
    }
   ],
   "source": [
    "dataset.doc_type.value_counts()"
   ]
  },
  {
   "cell_type": "code",
   "execution_count": 19,
   "id": "e5ae7783-ad77-4b8f-a9da-fc18445a8e8a",
   "metadata": {},
   "outputs": [
    {
     "data": {
      "text/plain": [
       "np.int64(4958)"
      ]
     },
     "execution_count": 19,
     "metadata": {},
     "output_type": "execute_result"
    }
   ],
   "source": [
    "dataset.doc_type.isna().sum()"
   ]
  },
  {
   "cell_type": "code",
   "execution_count": 22,
   "id": "8e57dfc1-be70-46d7-bf75-2633bae9b465",
   "metadata": {},
   "outputs": [
    {
     "data": {
      "text/plain": [
       "query_type\n",
       "show     5000\n",
       "news     5000\n",
       "music    5000\n",
       "films    5000\n",
       "Name: count, dtype: int64"
      ]
     },
     "execution_count": 22,
     "metadata": {},
     "output_type": "execute_result"
    }
   ],
   "source": [
    "dataset.query_type.value_counts()"
   ]
  },
  {
   "cell_type": "code",
   "execution_count": 21,
   "id": "7c05616b-fff3-4f55-a5ad-a4ac28522197",
   "metadata": {},
   "outputs": [
    {
     "data": {
      "text/plain": [
       "np.int64(0)"
      ]
     },
     "execution_count": 21,
     "metadata": {},
     "output_type": "execute_result"
    }
   ],
   "source": [
    "dataset.query_type.isna().sum()"
   ]
  },
  {
   "cell_type": "code",
   "execution_count": 23,
   "id": "5697028e-baf4-411a-84eb-0bd09a116d8f",
   "metadata": {},
   "outputs": [
    {
     "data": {
      "text/plain": [
       "view_time\n",
       "0        17083\n",
       "933          5\n",
       "479          5\n",
       "287          4\n",
       "183          4\n",
       "         ...  \n",
       "1570         1\n",
       "54           1\n",
       "10600        1\n",
       "4692         1\n",
       "2812         1\n",
       "Name: count, Length: 2427, dtype: int64"
      ]
     },
     "execution_count": 23,
     "metadata": {},
     "output_type": "execute_result"
    }
   ],
   "source": [
    "dataset.view_time.value_counts()"
   ]
  },
  {
   "cell_type": "code",
   "execution_count": 25,
   "id": "6b6486a6-6d43-4ee0-b4ba-d6aabeb6459e",
   "metadata": {},
   "outputs": [
    {
     "data": {
      "text/plain": [
       "np.int64(0)"
      ]
     },
     "execution_count": 25,
     "metadata": {},
     "output_type": "execute_result"
    }
   ],
   "source": [
    "dataset.view_time.isna().sum()"
   ]
  },
  {
   "cell_type": "code",
   "execution_count": 41,
   "id": "e3e297b3-768e-4ba4-9e54-4646d899c767",
   "metadata": {},
   "outputs": [
    {
     "data": {
      "text/plain": [
       "sex\n",
       "female    10075\n",
       "male       5446\n",
       "anonym     4479\n",
       "Name: count, dtype: int64"
      ]
     },
     "execution_count": 41,
     "metadata": {},
     "output_type": "execute_result"
    }
   ],
   "source": [
    "dataset.sex.value_counts()"
   ]
  },
  {
   "cell_type": "markdown",
   "id": "1de44158-966a-4613-8b16-0b89847e0a94",
   "metadata": {},
   "source": [
    "Смотрим, повторяются ли юзеры и айдишники запросов"
   ]
  },
  {
   "cell_type": "code",
   "execution_count": 27,
   "id": "ab6bcfee-7cbd-4b77-9fb0-100b5e731bb9",
   "metadata": {},
   "outputs": [
    {
     "data": {
      "text/plain": [
       "(16292, np.int64(20000))"
      ]
     },
     "execution_count": 27,
     "metadata": {},
     "output_type": "execute_result"
    }
   ],
   "source": [
    "dataset.user_id.nunique(), dataset.user_id.count()"
   ]
  },
  {
   "cell_type": "code",
   "execution_count": 28,
   "id": "a6a9ea6d-7a84-44b4-b360-fc503b0c71fb",
   "metadata": {},
   "outputs": [
    {
     "data": {
      "text/plain": [
       "(18430, np.int64(20000))"
      ]
     },
     "execution_count": 28,
     "metadata": {},
     "output_type": "execute_result"
    }
   ],
   "source": [
    "dataset.query_id.nunique(), dataset.query_id.count()"
   ]
  },
  {
   "cell_type": "code",
   "execution_count": 62,
   "id": "02c2f463-61ad-4444-8758-9eb0b85a9e7b",
   "metadata": {},
   "outputs": [
    {
     "data": {
      "text/plain": [
       "event\n",
       "tap          6564\n",
       "search       4958\n",
       "view         2917\n",
       "like         2195\n",
       "subscribe    2142\n",
       "share        1224\n",
       "Name: count, dtype: int64"
      ]
     },
     "execution_count": 62,
     "metadata": {},
     "output_type": "execute_result"
    }
   ],
   "source": [
    "dataset.event.value_counts()"
   ]
  },
  {
   "cell_type": "markdown",
   "id": "f493e0ef-f06f-40b4-9492-124c9acbafc1",
   "metadata": {},
   "source": [
    "У нас не NLP, так что оценивать текст запроса как набор слов мы не можем. Добавим данные о числе слов и длине запроса"
   ]
  },
  {
   "cell_type": "code",
   "execution_count": 35,
   "id": "04daced9-67c8-4e47-8059-e1b5dfb7f558",
   "metadata": {},
   "outputs": [],
   "source": []
  },
  {
   "cell_type": "code",
   "execution_count": 36,
   "id": "7a19ad09-5d7e-461b-9c5d-213ddab24151",
   "metadata": {},
   "outputs": [],
   "source": [
    "dataset[\"query_text_wordcount\"] = dataset[\"query_text\"].apply(lambda x: len(x.split()))"
   ]
  },
  {
   "cell_type": "code",
   "execution_count": 37,
   "id": "98aa7bf5-6759-4902-be5f-f0aa376442e2",
   "metadata": {},
   "outputs": [
    {
     "data": {
      "text/html": [
       "<div>\n",
       "<style scoped>\n",
       "    .dataframe tbody tr th:only-of-type {\n",
       "        vertical-align: middle;\n",
       "    }\n",
       "\n",
       "    .dataframe tbody tr th {\n",
       "        vertical-align: top;\n",
       "    }\n",
       "\n",
       "    .dataframe thead th {\n",
       "        text-align: right;\n",
       "    }\n",
       "</style>\n",
       "<table border=\"1\" class=\"dataframe\">\n",
       "  <thead>\n",
       "    <tr style=\"text-align: right;\">\n",
       "      <th></th>\n",
       "      <th>Unnamed: 0</th>\n",
       "      <th>user_id</th>\n",
       "      <th>sex</th>\n",
       "      <th>age</th>\n",
       "      <th>platform</th>\n",
       "      <th>query_id</th>\n",
       "      <th>query_text</th>\n",
       "      <th>query_type</th>\n",
       "      <th>event</th>\n",
       "      <th>click_position</th>\n",
       "      <th>doc_type</th>\n",
       "      <th>view_time</th>\n",
       "      <th>query_text_length</th>\n",
       "      <th>query_text_wordcount</th>\n",
       "    </tr>\n",
       "  </thead>\n",
       "  <tbody>\n",
       "    <tr>\n",
       "      <th>0</th>\n",
       "      <td>0</td>\n",
       "      <td>96422511</td>\n",
       "      <td>female</td>\n",
       "      <td>68</td>\n",
       "      <td>android</td>\n",
       "      <td>89656828</td>\n",
       "      <td>передачи о новых технологиях</td>\n",
       "      <td>show</td>\n",
       "      <td>share</td>\n",
       "      <td>6</td>\n",
       "      <td>playlist</td>\n",
       "      <td>0</td>\n",
       "      <td>28</td>\n",
       "      <td>4</td>\n",
       "    </tr>\n",
       "    <tr>\n",
       "      <th>1</th>\n",
       "      <td>1</td>\n",
       "      <td>45247030</td>\n",
       "      <td>male</td>\n",
       "      <td>62</td>\n",
       "      <td>android_tv</td>\n",
       "      <td>89784877</td>\n",
       "      <td>автопрому новости</td>\n",
       "      <td>news</td>\n",
       "      <td>search</td>\n",
       "      <td>0</td>\n",
       "      <td>NaN</td>\n",
       "      <td>0</td>\n",
       "      <td>17</td>\n",
       "      <td>2</td>\n",
       "    </tr>\n",
       "    <tr>\n",
       "      <th>2</th>\n",
       "      <td>2</td>\n",
       "      <td>79572413</td>\n",
       "      <td>male</td>\n",
       "      <td>12</td>\n",
       "      <td>web</td>\n",
       "      <td>10555855</td>\n",
       "      <td>логистическое законодательство</td>\n",
       "      <td>news</td>\n",
       "      <td>search</td>\n",
       "      <td>0</td>\n",
       "      <td>NaN</td>\n",
       "      <td>0</td>\n",
       "      <td>30</td>\n",
       "      <td>2</td>\n",
       "    </tr>\n",
       "    <tr>\n",
       "      <th>3</th>\n",
       "      <td>3</td>\n",
       "      <td>821317</td>\n",
       "      <td>female</td>\n",
       "      <td>58</td>\n",
       "      <td>android_tv</td>\n",
       "      <td>72054848</td>\n",
       "      <td>банковские премии новости</td>\n",
       "      <td>news</td>\n",
       "      <td>search</td>\n",
       "      <td>0</td>\n",
       "      <td>NaN</td>\n",
       "      <td>0</td>\n",
       "      <td>25</td>\n",
       "      <td>3</td>\n",
       "    </tr>\n",
       "    <tr>\n",
       "      <th>4</th>\n",
       "      <td>4</td>\n",
       "      <td>6206023</td>\n",
       "      <td>female</td>\n",
       "      <td>24</td>\n",
       "      <td>android</td>\n",
       "      <td>20838049</td>\n",
       "      <td>вики шоу аманда</td>\n",
       "      <td>show</td>\n",
       "      <td>subscribe</td>\n",
       "      <td>7</td>\n",
       "      <td>author</td>\n",
       "      <td>0</td>\n",
       "      <td>15</td>\n",
       "      <td>3</td>\n",
       "    </tr>\n",
       "  </tbody>\n",
       "</table>\n",
       "</div>"
      ],
      "text/plain": [
       "   Unnamed: 0   user_id     sex  age    platform  query_id  \\\n",
       "0           0  96422511  female   68     android  89656828   \n",
       "1           1  45247030    male   62  android_tv  89784877   \n",
       "2           2  79572413    male   12         web  10555855   \n",
       "3           3    821317  female   58  android_tv  72054848   \n",
       "4           4   6206023  female   24     android  20838049   \n",
       "\n",
       "                       query_text query_type      event  click_position  \\\n",
       "0    передачи о новых технологиях       show      share               6   \n",
       "1               автопрому новости       news     search               0   \n",
       "2  логистическое законодательство       news     search               0   \n",
       "3       банковские премии новости       news     search               0   \n",
       "4                 вики шоу аманда       show  subscribe               7   \n",
       "\n",
       "   doc_type  view_time  query_text_length  query_text_wordcount  \n",
       "0  playlist          0                 28                     4  \n",
       "1       NaN          0                 17                     2  \n",
       "2       NaN          0                 30                     2  \n",
       "3       NaN          0                 25                     3  \n",
       "4    author          0                 15                     3  "
      ]
     },
     "execution_count": 37,
     "metadata": {},
     "output_type": "execute_result"
    }
   ],
   "source": [
    "dataset.head()"
   ]
  },
  {
   "cell_type": "markdown",
   "id": "d5c840db-5c98-406f-bf30-8f06569e1321",
   "metadata": {},
   "source": [
    "Посмотрим, как раскиданы числовые данные"
   ]
  },
  {
   "cell_type": "code",
   "execution_count": 64,
   "id": "9b2f5942-aa58-4a02-b8ef-4641e67804ad",
   "metadata": {},
   "outputs": [
    {
     "data": {
      "image/png": "[encoded data removed]",
      "text/plain": [
       "<Figure size 1000x1000 with 4 Axes>"
      ]
     },
     "metadata": {},
     "output_type": "display_data"
    }
   ],
   "source": [
    "fig, axs = plt.subplots(2, 2)\n",
    "fig.set_size_inches((10, 10))\n",
    "axs[0][0].boxplot(dataset[\"query_text_length\"])\n",
    "axs[0][1].hist(dataset[\"query_text_length\"], bins=25) #boxplot(dataset[\"query_text_wordcount\"])\n",
    "# axs[1][0].boxplot(dataset[\"click_position\"])\n",
    "# axs[1][1].boxplot(dataset[\"view_time\"])\n",
    "plt.show()"
   ]
  },
  {
   "cell_type": "markdown",
   "id": "3cfb8f67-3bf8-4078-a921-613d86182e33",
   "metadata": {},
   "source": [
    "Ищем\n",
    "- насколько мы упрощаем жизнь\n",
    "- когда пользователю предлагается релевантный ответ\n",
    "- какой вклад от поиска в развитие ВК"
   ]
  },
  {
   "cell_type": "markdown",
   "id": "3824f01d-552c-4a28-bc0f-57b74a0ba799",
   "metadata": {},
   "source": [
    "Что такое релеватный ответ?\n",
    "\n",
    "Что такое плохое качество? когда не релевантный ответ\n",
    "\n",
    "Когда нерелевантный? когда видео находят далеко или не выбирают (0)\n",
    "\n",
    "Надо посмотреть, сколько по каждому запросу совершено действий\n",
    "\n",
    "На какие категории будем делить (где конкретно проблемы)? Проблема с платформой? С полом? "
   ]
  },
  {
   "cell_type": "markdown",
   "id": "d454f922-f496-4e9f-8a44-98a128e11a15",
   "metadata": {},
   "source": [
    "## Точки роста: когда плохое качество"
   ]
  },
  {
   "cell_type": "code",
   "execution_count": null,
   "id": "15b6a800-c5fc-4ea3-81ed-57906c1c4a7f",
   "metadata": {},
   "outputs": [],
   "source": []
  },
  {
   "cell_type": "markdown",
   "id": "0048ab11-6431-470c-b55b-915ba493b62a",
   "metadata": {},
   "source": [
    "## Визуализируем проблемные случаи"
   ]
  },
  {
   "cell_type": "code",
   "execution_count": null,
   "id": "98c54558-1d90-4744-9871-4a17f5fbeaf0",
   "metadata": {},
   "outputs": [],
   "source": []
  },
  {
   "cell_type": "markdown",
   "id": "045a2a43-746c-4f2a-9a45-c338e490f18f",
   "metadata": {},
   "source": [
    "## Выводы"
   ]
  }
 ],
 "metadata": {
  "kernelspec": {
   "display_name": "Python 3 (ipykernel)",
   "language": "python",
   "name": "python3"
  },
  "language_info": {
   "codemirror_mode": {
    "name": "ipython",
    "version": 3
   },
   "file_extension": ".py",
   "mimetype": "text/x-python",
   "name": "python",
   "nbconvert_exporter": "python",
   "pygments_lexer": "ipython3",
   "version": "3.12.3"
  }
 },
 "nbformat": 4,
 "nbformat_minor": 5
}
